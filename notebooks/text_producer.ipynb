{
 "cells": [
  {
   "cell_type": "code",
   "execution_count": 1,
   "metadata": {},
   "outputs": [],
   "source": [
    "# Import Image for basic functionalities like open, save, show\n",
    "# Import ImageDraw to convert image into editable format\n",
    "# Import ImageFont to choose the font style\n",
    "from PIL import Image, ImageDraw, ImageFont"
   ]
  },
  {
   "cell_type": "code",
   "execution_count": 9,
   "metadata": {},
   "outputs": [],
   "source": [
    "# gfg_logo.jpeg image opened using open function and\n",
    "# assigned to variable named img\n",
    "img = Image.open(\"../data/example_1.jpg\")"
   ]
  },
  {
   "cell_type": "code",
   "execution_count": 10,
   "metadata": {},
   "outputs": [],
   "source": [
    "# Image is converted into editable form using Draw\n",
    "# function and assigned to d1\n",
    "d1 = ImageDraw.Draw(img)"
   ]
  },
  {
   "cell_type": "code",
   "execution_count": 11,
   "metadata": {},
   "outputs": [],
   "source": [
    "# Font selection from the downloaded file\n",
    "# myFont = ImageFont.truetype('fonts/ofont.ru_Olietta script-Poesia.ttf', 100)\n",
    "myFont = ImageFont.truetype(\"../fonts/Old Classic.ttf\", 100)"
   ]
  },
  {
   "cell_type": "code",
   "execution_count": 12,
   "metadata": {},
   "outputs": [],
   "source": [
    "# Decide the text location, color and font\n",
    "d1.text((0, 10), \"ТЕКСТ\", fill=(255, 255, 0), font=myFont)"
   ]
  },
  {
   "cell_type": "code",
   "execution_count": 13,
   "metadata": {},
   "outputs": [],
   "source": [
    "# show and save the image\n",
    "img.show()\n",
    "img.save(\"result.jpeg\")"
   ]
  }
 ],
 "metadata": {
  "kernelspec": {
   "display_name": "venv",
   "language": "python",
   "name": "python3"
  },
  "language_info": {
   "codemirror_mode": {
    "name": "ipython",
    "version": 3
   },
   "file_extension": ".py",
   "mimetype": "text/x-python",
   "name": "python",
   "nbconvert_exporter": "python",
   "pygments_lexer": "ipython3",
   "version": "3.10.8 (main, Jan  3 2023, 12:33:50) [GCC 12.2.1 20221121 (Red Hat 12.2.1-4)]"
  },
  "orig_nbformat": 4,
  "vscode": {
   "interpreter": {
    "hash": "f3e2f6ab592c66c9b29ff1b8aa973ecb4c8ccf1c8a16c505315720d31397b853"
   }
  }
 },
 "nbformat": 4,
 "nbformat_minor": 2
}
